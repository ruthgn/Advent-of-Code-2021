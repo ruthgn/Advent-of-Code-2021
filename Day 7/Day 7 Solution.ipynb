{
 "cells": [
  {
   "cell_type": "markdown",
   "metadata": {},
   "source": [
    "# Day 7: The Treachery of Whales"
   ]
  },
  {
   "cell_type": "markdown",
   "metadata": {},
   "source": [
    "(From [Advent of Code 2021, day 7](https://adventofcode.com/2021/day/7))"
   ]
  },
  {
   "cell_type": "code",
   "execution_count": 1,
   "metadata": {},
   "outputs": [],
   "source": [
    "# Libraries used:\n",
    "import numpy as np"
   ]
  },
  {
   "cell_type": "markdown",
   "metadata": {},
   "source": [
    "## Part 1"
   ]
  },
  {
   "cell_type": "markdown",
   "metadata": {},
   "source": [
    "A giant [whale](https://en.wikipedia.org/wiki/Sperm_whale) has decided your submarine is its next meal, and it's much faster than you are. There's nowhere to run!\n",
    "\n",
    "Suddenly, a swarm of crabs (each in its own tiny submarine - it's too deep for them otherwise) zooms in to rescue you! They seem to be preparing to blast a hole in the ocean floor; sensors indicate a _massive underground cave system_ just beyond where they're aiming!\n",
    "\n",
    "The crab submarines all need to be aligned before they'll have enough power to blast a large enough hole for your submarine to get through. However, it doesn't look like they'll be aligned before the whale catches you! Maybe you can help?\n",
    "\n",
    "There's one major catch - crab submarines can only move horizontally.\n",
    "\n",
    "You quickly make a list of _the horizontal position of each crab_ (your puzzle input). Crab submarines have limited fuel, so you need to find a way to make all of their horizontal positions match while requiring them to spend as little fuel as possible.\n",
    "\n",
    "For example, consider the following horizontal positions:\n",
    "\n",
    "```\n",
    "16,1,2,0,4,2,7,1,2,14\n",
    "```\n",
    "\n",
    "This means there's a crab with horizontal position `16`, a crab with horizontal position `1`, and so on.\n",
    "\n",
    "Each change of 1 step in horizontal position of a single crab costs 1 fuel. You could choose any horizontal position to align them all on, but the one that costs the least fuel is horizontal position `2`:\n",
    "\n",
    "-   Move from `16` to `2`: `14` fuel\n",
    "-   Move from `1` to `2`: `1` fuel\n",
    "-   Move from `2` to `2`: `0` fuel\n",
    "-   Move from `0` to `2`: `2` fuel\n",
    "-   Move from `4` to `2`: `2` fuel\n",
    "-   Move from `2` to `2`: `0` fuel\n",
    "-   Move from `7` to `2`: `5` fuel\n",
    "-   Move from `1` to `2`: `1` fuel\n",
    "-   Move from `2` to `2`: `0` fuel\n",
    "-   Move from `14` to `2`: `12` fuel\n",
    "\n",
    "This costs a total of `37` fuel. This is the cheapest possible outcome; more expensive outcomes include aligning at position `1` (`41` fuel), position `3` (`39` fuel), or position `10` (`71` fuel).\n",
    "\n",
    "Determine the horizontal position that the crabs can align to using the least fuel possible. _How much fuel must they spend to align to that position?_"
   ]
  },
  {
   "cell_type": "markdown",
   "metadata": {},
   "source": [
    "### Solution"
   ]
  },
  {
   "cell_type": "code",
   "execution_count": 2,
   "metadata": {},
   "outputs": [],
   "source": [
    "# Input file\n",
    "# (Set this to the correct path for you!)\n",
    "input = np.genfromtxt('input.txt', delimiter=',', dtype=int)"
   ]
  },
  {
   "cell_type": "markdown",
   "metadata": {},
   "source": [
    "We can use a brute-force method to find the solution for our problem--we will try calculating the different fuel costs for every possible horizontal position. First, we need to list all possible horizontal positions, and then we can compute and compare the total amount of fuel needed to allign all crab submarines at each position."
   ]
  },
  {
   "cell_type": "code",
   "execution_count": 3,
   "metadata": {},
   "outputs": [
    {
     "data": {
      "text/plain": [
       "359648"
      ]
     },
     "execution_count": 3,
     "metadata": {},
     "output_type": "execute_result"
    }
   ],
   "source": [
    "# All positions currently occupied by different crab submarines\n",
    "horizontal_points = range(input.min(), input.max() + 1)\n",
    "\n",
    "# Calculate fuel needed for each possible allignment point\n",
    "# Save into a list\n",
    "fuel_need_possibilities = []\n",
    "for point in horizontal_points:\n",
    "    start = input.copy()\n",
    "    distance = abs(start - point)\n",
    "    fuel_need = sum(distance)\n",
    "    fuel_need_possibilities.append(fuel_need)\n",
    "\n",
    "# Find the minimum value among all possible amounts of fuel needed\n",
    "np.min(fuel_need_possibilities)"
   ]
  },
  {
   "cell_type": "markdown",
   "metadata": {},
   "source": [
    "*Answer*: 359648"
   ]
  },
  {
   "cell_type": "markdown",
   "metadata": {},
   "source": [
    "## Part 2"
   ]
  },
  {
   "cell_type": "markdown",
   "metadata": {},
   "source": [
    "The crabs don't seem interested in your proposed solution. Perhaps you misunderstand crab engineering?\n",
    "\n",
    "As it turns out, crab submarine engines don't burn fuel at a constant rate. Instead, each change of 1 step in horizontal position costs 1 more unit of fuel than the last: the first step costs `1`, the second step costs `2`, the third step costs `3`, and so on.\n",
    "\n",
    "As each crab moves, moving further becomes more expensive. This changes the best horizontal position to align them all on; in the example above, this becomes `5`:\n",
    "\n",
    "-   Move from `16` to `5`: `66` fuel\n",
    "-   Move from `1` to `5`: `10` fuel\n",
    "-   Move from `2` to `5`: `6` fuel\n",
    "-   Move from `0` to `5`: `15` fuel\n",
    "-   Move from `4` to `5`: `1` fuel\n",
    "-   Move from `2` to `5`: `6` fuel\n",
    "-   Move from `7` to `5`: `3` fuel\n",
    "-   Move from `1` to `5`: `10` fuel\n",
    "-   Move from `2` to `5`: `6` fuel\n",
    "-   Move from `14` to `5`: `45` fuel\n",
    "\n",
    "This costs a total of `168` fuel. This is the new cheapest possible outcome; the old alignment position (`2`) now costs `206` fuel instead.\n",
    "\n",
    "Determine the horizontal position that the crabs can align to using the least fuel possible so they can make you an escape route! _How much fuel must they spend to align to that position?_"
   ]
  },
  {
   "cell_type": "markdown",
   "metadata": {},
   "source": [
    "### Solution"
   ]
  },
  {
   "cell_type": "markdown",
   "metadata": {},
   "source": [
    "We can use a similar solution to the one we wrote previously. This time, however, we need to recalculate the fuel cost using our new knowledge on crab engineering:\n",
    "\n",
    ">As it turns out, crab submarine engines don't burn fuel at a constant rate. Instead, each change of 1 step in horizontal position costs 1 more unit of fuel than the last: the first step costs `1`, the second step costs `2`, the third step costs `3`, and so on.\n",
    "\n",
    "Mathematically, calculating the individual fuel cost is effectively computing the *nth triangle number* of the distance between a crab submarine and the projected allignment point, which can be done using the following formula: $\\dfrac{n^2 + n}{2}$. In our code below, this is expressed as `fuel_cost = ((distance ** 2) + distance) / 2`.\n",
    "\n"
   ]
  },
  {
   "cell_type": "code",
   "execution_count": 4,
   "metadata": {},
   "outputs": [
    {
     "data": {
      "text/plain": [
       "100727924.0"
      ]
     },
     "execution_count": 4,
     "metadata": {},
     "output_type": "execute_result"
    }
   ],
   "source": [
    "# All positions currently occupied by different crab submarines\n",
    "horizontal_points = range(input.min(), input.max() + 1)\n",
    "\n",
    "# Calculate fuel needed for each possible allignment point\n",
    "# Save into a list\n",
    "fuel_need_possibilities = []\n",
    "for point in horizontal_points:\n",
    "    start = input.copy()\n",
    "    distance = abs(start - point)\n",
    "    # Modify fuel cost calculation\n",
    "    fuel_cost = ((distance ** 2) + distance) / 2\n",
    "    fuel_need = sum(fuel_cost)\n",
    "    fuel_need_possibilities.append(fuel_need)\n",
    "\n",
    "# Find the minimum value among all possible amounts of fuel needed\n",
    "np.min(fuel_need_possibilities)"
   ]
  },
  {
   "cell_type": "markdown",
   "metadata": {},
   "source": [
    "*Answer*: 100727924"
   ]
  }
 ],
 "metadata": {
  "interpreter": {
   "hash": "7c6ffe0c0623475d21c27184ff6ed13b57c8e4b85543bf7cfaa243c18c107ddb"
  },
  "kernelspec": {
   "display_name": "Python 3.9.7 64-bit ('mlenv': conda)",
   "language": "python",
   "name": "python3"
  },
  "language_info": {
   "codemirror_mode": {
    "name": "ipython",
    "version": 3
   },
   "file_extension": ".py",
   "mimetype": "text/x-python",
   "name": "python",
   "nbconvert_exporter": "python",
   "pygments_lexer": "ipython3",
   "version": "3.9.7"
  },
  "orig_nbformat": 4
 },
 "nbformat": 4,
 "nbformat_minor": 2
}
