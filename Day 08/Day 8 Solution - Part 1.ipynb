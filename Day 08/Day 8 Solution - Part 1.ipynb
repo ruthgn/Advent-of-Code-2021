{
 "cells": [
  {
   "cell_type": "markdown",
   "metadata": {},
   "source": [
    "# Day 8: Seven Segment Search"
   ]
  },
  {
   "cell_type": "markdown",
   "metadata": {},
   "source": [
    "(From [Advent of Code 2021, day 8](https://adventofcode.com/2021/day/8))"
   ]
  },
  {
   "cell_type": "code",
   "execution_count": 1,
   "metadata": {},
   "outputs": [],
   "source": [
    "# Libraries used:\n",
    "import pandas as pd\n",
    "import numpy as np"
   ]
  },
  {
   "cell_type": "markdown",
   "metadata": {},
   "source": [
    "## Part 1"
   ]
  },
  {
   "cell_type": "markdown",
   "metadata": {},
   "source": [
    "You barely reach the safety of the cave when the whale smashes into the cave mouth, collapsing it. Sensors indicate another exit to this cave at a much greater depth, so you have no choice but to press on.\n",
    "\n",
    "As your submarine slowly makes its way through the cave system, you notice that the four-digit [seven-segment displays](https://en.wikipedia.org/wiki/Seven-segment_display) in your submarine are malfunctioning; they must have been damaged during the escape. You'll be in a lot of trouble without them, so you'd better figure out what's wrong.\n",
    "\n",
    "Each digit of a seven-segment display is rendered by turning on or off any of seven segments named `a` through `g`:\n",
    "\n",
    "```\n",
    "  0:      1:      2:      3:      4:\n",
    " aaaa    ....    aaaa    aaaa    ....\n",
    "b    c  .    c  .    c  .    c  b    c\n",
    "b    c  .    c  .    c  .    c  b    c\n",
    " ....    ....    dddd    dddd    dddd\n",
    "e    f  .    f  e    .  .    f  .    f\n",
    "e    f  .    f  e    .  .    f  .    f\n",
    " gggg    ....    gggg    gggg    ....\n",
    "\n",
    "  5:      6:      7:      8:      9:\n",
    " aaaa    aaaa    aaaa    aaaa    aaaa\n",
    "b    .  b    .  .    c  b    c  b    c\n",
    "b    .  b    .  .    c  b    c  b    c\n",
    " dddd    dddd    ....    dddd    dddd\n",
    ".    f  e    f  .    f  e    f  .    f\n",
    ".    f  e    f  .    f  e    f  .    f\n",
    " gggg    gggg    ....    gggg    gggg\n",
    "```\n",
    "\n",
    "So, to render a `1`, only segments `c` and `f` would be turned on; the rest would be off. To render a `7`, only segments `a`, `c`, and `f` would be turned on.\n",
    "\n",
    "The problem is that the signals which control the segments have been mixed up on each display. The submarine is still trying to display numbers by producing output on signal wires `a` through `g`, but those wires are connected to segments _randomly_. Worse, the wire/segment connections are mixed up separately for each four-digit display! (All of the digits _within_ a display use the same connections, though.)\n",
    "\n",
    "So, you might know that only signal wires `b` and `g` are turned on, but that doesn't mean _segments_ `b` and `g` are turned on: the only digit that uses two segments is `1`, so it must mean segments `c` and `f` are meant to be on. With just that information, you still can't tell which wire (`b`/`g`) goes to which segment (`c`/`f`). For that, you'll need to collect more information.\n",
    "\n",
    "For each display, you watch the changing signals for a while, make a note of _all ten unique signal patterns_ you see, and then write down a single _four digit output value_ (your puzzle input). Using the signal patterns, you should be able to work out which pattern corresponds to which digit.\n",
    "\n",
    "For example, here is what you might see in a single entry in your notes:\n",
    "\n",
    "```\n",
    "acedgfb cdfbe gcdfa fbcad dab cefabd cdfgeb eafb cagedb ab |\n",
    "cdfeb fcadb cdfeb cdbaf\n",
    "```\n",
    "\n",
    "(The entry is wrapped here to two lines so it fits; in your notes, it will all be on a single line.)\n",
    "\n",
    "Each entry consists of ten _unique signal patterns_, a `|` delimiter, and finally the _four digit output value_. Within an entry, the same wire/segment connections are used (but you don't know what the connections actually are). The unique signal patterns correspond to the ten different ways the submarine tries to render a digit using the current wire/segment connections. Because `7` is the only digit that uses three segments, `dab` in the above example means that to render a `7`, signal lines `d`, `a`, and `b` are on. Because `4` is the only digit that uses four segments, `eafb` means that to render a `4`, signal lines `e`, `a`, `f`, and `b` are on.\n",
    "\n",
    "Using this information, you should be able to work out which combination of signal wires corresponds to each of the ten digits. Then, you can decode the four digit output value. Unfortunately, in the above example, all of the digits in the output value (`cdfeb fcadb cdfeb cdbaf`) use five segments and are more difficult to deduce.\n",
    "\n",
    "For now, _focus on the easy digits_. Consider this larger example:\n",
    "\n",
    "```\n",
    "be cfbegad cbdgef fgaecd cgeb fdcge agebfd fecdb fabcd edb |\n",
    "fdgacbe cefdb cefbgd gcbe\n",
    "edbfga begcd cbg gc gcadebf fbgde acbgfd abcde gfcbed gfec |\n",
    "fcgedb cgb dgebacf gc\n",
    "fgaebd cg bdaec gdafb agbcfd gdcbef bgcad gfac gcb cdgabef |\n",
    "cg cg fdcagb cbg\n",
    "fbegcd cbd adcefb dageb afcb bc aefdc ecdab fgdeca fcdbega |\n",
    "efabcd cedba gadfec cb\n",
    "aecbfdg fbg gf bafeg dbefa fcge gcbea fcaegb dgceab fcbdga |\n",
    "gecf egdcabf bgf bfgea\n",
    "fgeab ca afcebg bdacfeg cfaedg gcfdb baec bfadeg bafgc acf |\n",
    "gebdcfa ecba ca fadegcb\n",
    "dbcfg fgd bdegcaf fgec aegbdf ecdfab fbedc dacgb gdcebf gf |\n",
    "cefg dcbef fcge gbcadfe\n",
    "bdfegc cbegaf gecbf dfcage bdacg ed bedf ced adcbefg gebcd |\n",
    "ed bcgafe cdgba cbgef\n",
    "egadfb cdbfeg cegd fecab cgb gbdefca cg fgcdab egfdb bfceg |\n",
    "gbdfcae bgc cg cgb\n",
    "gcafb gcf dcaebfg ecagb gf abcdeg gaef cafbge fdbac fegbdc |\n",
    "fgae cfgab fg bagce\n",
    "```\n",
    "\n",
    "Because the digits `1`, `4`, `7`, and `8` each use a unique number of segments, you should be able to tell which combinations of signals correspond to those digits. Counting _only digits in the output values_ (the part after `|` on each line), in the above example, there are `26` instances of digits that use a unique number of segments.\n",
    "\n",
    "_In the output values, how many times do digits `1`, `4`, `7`, or `8` appear?_"
   ]
  },
  {
   "cell_type": "markdown",
   "metadata": {},
   "source": [
    "### Solution"
   ]
  },
  {
   "cell_type": "code",
   "execution_count": 2,
   "metadata": {},
   "outputs": [
    {
     "data": {
      "text/html": [
       "<div>\n",
       "<style scoped>\n",
       "    .dataframe tbody tr th:only-of-type {\n",
       "        vertical-align: middle;\n",
       "    }\n",
       "\n",
       "    .dataframe tbody tr th {\n",
       "        vertical-align: top;\n",
       "    }\n",
       "\n",
       "    .dataframe thead th {\n",
       "        text-align: right;\n",
       "    }\n",
       "</style>\n",
       "<table border=\"1\" class=\"dataframe\">\n",
       "  <thead>\n",
       "    <tr style=\"text-align: right;\">\n",
       "      <th></th>\n",
       "      <th>signal_pattern</th>\n",
       "      <th>output_value</th>\n",
       "    </tr>\n",
       "  </thead>\n",
       "  <tbody>\n",
       "    <tr>\n",
       "      <th>0</th>\n",
       "      <td>ecfdbg decfba aegd fdcag fagecd gd gcafb efdac...</td>\n",
       "      <td>bgacf afdebc fceda cabfg</td>\n",
       "    </tr>\n",
       "    <tr>\n",
       "      <th>1</th>\n",
       "      <td>cfdabeg cda bcgad bedfac aefbgd bfgcad dfbga e...</td>\n",
       "      <td>gdbefac fgabcd dcbefag aedgfb</td>\n",
       "    </tr>\n",
       "    <tr>\n",
       "      <th>2</th>\n",
       "      <td>aedbfgc gcaf ebgfca bca edgcfb adbge gebac fbe...</td>\n",
       "      <td>ceafbg acb egbad gfaebc</td>\n",
       "    </tr>\n",
       "    <tr>\n",
       "      <th>3</th>\n",
       "      <td>gaeb cafdbg aedfc ecfgdb ab cdaefgb cgbdae bde...</td>\n",
       "      <td>gfacdeb gabdec begcd adbce</td>\n",
       "    </tr>\n",
       "    <tr>\n",
       "      <th>4</th>\n",
       "      <td>fcbgea fbedg bc cbefg befgcda cfgdab gbc efdgc...</td>\n",
       "      <td>faecg cb cb fecbga</td>\n",
       "    </tr>\n",
       "  </tbody>\n",
       "</table>\n",
       "</div>"
      ],
      "text/plain": [
       "                                      signal_pattern  \\\n",
       "0  ecfdbg decfba aegd fdcag fagecd gd gcafb efdac...   \n",
       "1  cfdabeg cda bcgad bedfac aefbgd bfgcad dfbga e...   \n",
       "2  aedbfgc gcaf ebgfca bca edgcfb adbge gebac fbe...   \n",
       "3  gaeb cafdbg aedfc ecfgdb ab cdaefgb cgbdae bde...   \n",
       "4  fcbgea fbedg bc cbefg befgcda cfgdab gbc efdgc...   \n",
       "\n",
       "                     output_value  \n",
       "0        bgacf afdebc fceda cabfg  \n",
       "1   gdbefac fgabcd dcbefag aedgfb  \n",
       "2         ceafbg acb egbad gfaebc  \n",
       "3      gfacdeb gabdec begcd adbce  \n",
       "4              faecg cb cb fecbga  "
      ]
     },
     "execution_count": 2,
     "metadata": {},
     "output_type": "execute_result"
    }
   ],
   "source": [
    "# Input file\n",
    "# (Set this to the correct path for you!)\n",
    "data = pd.read_csv('input.txt', header=None, sep='|', names=['signal_pattern', 'output_value'])\n",
    "\n",
    "# Peak at input data\n",
    "data.head()"
   ]
  },
  {
   "cell_type": "markdown",
   "metadata": {},
   "source": [
    "Our problem statement gives the following information:\n",
    "\n",
    ">Because the digits `1`, `4`, `7`, and `8` each use a unique number of segments, you should be able to tell which combinations of signals correspond to those digits.\n",
    "\n",
    "Let's visualize the seven-segment displays of those four digits:\n",
    "\n",
    "```\n",
    "    1:        4:\n",
    "   ....      ....\n",
    "  .    c    b    c\n",
    "  .    c    b    c\n",
    "   ....      dddd\n",
    "  .    f    .    f\n",
    "  .    f    .    f\n",
    "   ....      ....\n",
    "\n",
    "    7:      8:    \n",
    "   aaaa    aaaa   \n",
    "  .    c  b    c \n",
    "  .    c  b    c\n",
    "   ....    dddd    \n",
    "  .    f  e    f \n",
    "  .    f  e    f  \n",
    "   ....    gggg   \n",
    "```\n",
    "\n",
    "The number of segments for each digit are as follows:\n",
    "* `1`: 2 segments\n",
    "* `4`: 4 segments\n",
    "* `7`: 3 segments\n",
    "* `8`: 7 segments\n",
    "\n",
    "Therefore, we are looking for output values with character lengths 2, 3, 4, and 7."
   ]
  },
  {
   "cell_type": "code",
   "execution_count": 3,
   "metadata": {},
   "outputs": [],
   "source": [
    "# Transform output value string into a list of separate elements\n",
    "data['output_value'] = data['output_value'].apply(lambda x: x.split())"
   ]
  },
  {
   "cell_type": "code",
   "execution_count": 4,
   "metadata": {},
   "outputs": [
    {
     "data": {
      "text/plain": [
       "303"
      ]
     },
     "execution_count": 4,
     "metadata": {},
     "output_type": "execute_result"
    }
   ],
   "source": [
    "# Select output elements that represent digits 1, 4, 7, and 8\n",
    "# and save them into a list\n",
    "target_digits_appearance = []\n",
    "for row in data.index:\n",
    "    for output in data['output_value'][row]:\n",
    "        if len(output) == 2:\n",
    "            target_digits_appearance.append(1)\n",
    "        elif len(output) == 3:\n",
    "            target_digits_appearance.append(7)\n",
    "        elif len(output) == 4:\n",
    "            target_digits_appearance.append(4)\n",
    "        elif len(output) == 7:\n",
    "            target_digits_appearance.append(8)\n",
    "        else:\n",
    "            pass\n",
    "\n",
    "# Count number of elements in list\n",
    "# (getting number of appearences of digits 1, 4, 7, and 8)\n",
    "len(target_digits_appearance)"
   ]
  },
  {
   "cell_type": "markdown",
   "metadata": {},
   "source": [
    "*Answer*: 303"
   ]
  }
 ],
 "metadata": {
  "interpreter": {
   "hash": "7c6ffe0c0623475d21c27184ff6ed13b57c8e4b85543bf7cfaa243c18c107ddb"
  },
  "kernelspec": {
   "display_name": "Python 3.9.7 64-bit ('mlenv': conda)",
   "language": "python",
   "name": "python3"
  },
  "language_info": {
   "codemirror_mode": {
    "name": "ipython",
    "version": 3
   },
   "file_extension": ".py",
   "mimetype": "text/x-python",
   "name": "python",
   "nbconvert_exporter": "python",
   "pygments_lexer": "ipython3",
   "version": "3.9.7"
  },
  "orig_nbformat": 4
 },
 "nbformat": 4,
 "nbformat_minor": 2
}
